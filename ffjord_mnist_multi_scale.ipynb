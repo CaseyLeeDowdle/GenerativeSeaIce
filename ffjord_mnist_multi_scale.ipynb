{
 "cells": [
  {
   "cell_type": "code",
   "execution_count": 1,
   "metadata": {},
   "outputs": [
    {
     "data": {
      "text/plain": [
       "[name: \"/device:CPU:0\"\n",
       " device_type: \"CPU\"\n",
       " memory_limit: 268435456\n",
       " locality {\n",
       " }\n",
       " incarnation: 14887658084241166528,\n",
       " name: \"/device:GPU:0\"\n",
       " device_type: \"GPU\"\n",
       " memory_limit: 23319024768\n",
       " locality {\n",
       "   bus_id: 1\n",
       "   links {\n",
       "   }\n",
       " }\n",
       " incarnation: 2773717021811971605\n",
       " physical_device_desc: \"device: 0, name: GeForce RTX 3090, pci bus id: 0000:01:00.0, compute capability: 8.6\"]"
      ]
     },
     "execution_count": 1,
     "metadata": {},
     "output_type": "execute_result"
    }
   ],
   "source": [
    "import tensorflow as tf\n",
    "from tensorflow.keras import layers\n",
    "import numpy as np\n",
    "import matplotlib\n",
    "import matplotlib.pyplot as plt\n",
    "from tqdm import trange\n",
    "import glob,os\n",
    "from tensorflow.python.client import device_lib\n",
    "\n",
    "import tensorflow_probability as tfp\n",
    "tfb = tfp.bijectors\n",
    "tfd = tfp.distributions\n",
    "from skimage.transform import downscale_local_mean\n",
    "device_lib.list_local_devices()"
   ]
  },
  {
   "cell_type": "code",
   "execution_count": 2,
   "metadata": {},
   "outputs": [],
   "source": [
    "for f in glob.glob('images/ffjord/*.png'):\n",
    "    os.remove(f)"
   ]
  },
  {
   "cell_type": "code",
   "execution_count": 3,
   "metadata": {},
   "outputs": [
    {
     "data": {
      "image/png": "[encoded data removed]",
      "text/plain": [
       "<Figure size 288x288 with 16 Axes>"
      ]
     },
     "metadata": {
      "needs_background": "light"
     },
     "output_type": "display_data"
    }
   ],
   "source": [
    "# resizing images to make training easier\n",
    "(train_images, train_labels), (validate_images,validate_labels) = tf.keras.datasets.mnist.load_data()\n",
    "train_images =train_images.reshape([-1,28,28,1]).astype('float32')\n",
    "train_images = (train_images - 127.5) / 127.5 # Normalize the images to [-1, 1]\n",
    "train_images = tf.image.resize(train_images,[16,16])\n",
    "train_images_flattened = tf.reshape(train_images,[-1,16*16])\n",
    "\n",
    "fig = plt.figure(figsize=(4,4))\n",
    "for i in range(16):\n",
    "    plt.subplot(4,4,i+1)\n",
    "    plt.imshow(train_images[i]*127.5+127.5, cmap = 'gray')\n",
    "    plt.axis('off')\n",
    "    \n",
    "BUFFER_SIZE=train_images.shape[0]\n",
    "BATCH_SIZE=64\n",
    "train_dataset = tf.data.Dataset.from_tensor_slices(train_images_flattened).shuffle(BUFFER_SIZE).batch(BATCH_SIZE)"
   ]
  },
  {
   "cell_type": "code",
   "execution_count": 4,
   "metadata": {},
   "outputs": [],
   "source": [
    "class ResnetBlock(tf.keras.layers.Layer):\n",
    "    def __init__(self,filter_size):\n",
    "        super(ResnetBlock, self).__init__(name='')\n",
    "\n",
    "        self.conv2a = tf.keras.layers.Conv2D(filter_size, kernel_size=(3, 3), strides=(1,1),\n",
    "                                             padding='same',use_bias=False)\n",
    "\n",
    "        self.conv2b = tf.keras.layers.Conv2D(filter_size, kernel_size=(1,1), strides=(1,1), \n",
    "                                             padding='same',use_bias=False)\n",
    "\n",
    "        self.conv2c = tf.keras.layers.Conv2D(filter_size, kernel_size=(3, 3),strides=(1,1), \n",
    "                                             padding='same',use_bias=False)\n",
    "        \n",
    "        self.convReshape = tf.keras.layers.Conv2D(filter_size,kernel_size=(1,1),strides=(1,1),\n",
    "                                                 padding='same',use_bias=False)\n",
    "\n",
    "    def call(self, input_tensor):\n",
    "        x = self.conv2a(input_tensor)\n",
    "        x = tf.nn.softplus(x)\n",
    "\n",
    "        x = self.conv2b(x)\n",
    "        x = tf.nn.softplus(x)\n",
    "\n",
    "        x = self.conv2c(x)\n",
    "        \n",
    "        input_tensor_reshaped = self.convReshape(input_tensor)\n",
    "        x += input_tensor_reshaped\n",
    "        return tf.nn.softplus(x)"
   ]
  },
  {
   "cell_type": "code",
   "execution_count": 5,
   "metadata": {},
   "outputs": [
    {
     "name": "stderr",
     "output_type": "stream",
     "text": [
      "/usr/local/lib/python3.6/dist-packages/tensorflow_probability/python/__init__.py:69: UserWarning: TensorFloat-32 matmul/conv are enabled for NVIDIA Ampere+ GPUs. The resulting loss of precision may hinder MCMC convergence. To turn off, run `tf.config.experimental.enable_tensor_float_32_execution(False)`. For more detail, see https://github.com/tensorflow/community/pull/287.\n",
      "  'TensorFloat-32 matmul/conv are enabled for NVIDIA Ampere+ GPUs. The '\n",
      "/usr/local/lib/python3.6/dist-packages/tensorflow_probability/python/__init__.py:69: UserWarning: TensorFloat-32 matmul/conv are enabled for NVIDIA Ampere+ GPUs. The resulting loss of precision may hinder MCMC convergence. To turn off, run `tf.config.experimental.enable_tensor_float_32_execution(False)`. For more detail, see https://github.com/tensorflow/community/pull/287.\n",
      "  'TensorFloat-32 matmul/conv are enabled for NVIDIA Ampere+ GPUs. The '\n"
     ]
    }
   ],
   "source": [
    "output_dim = 16*16\n",
    "class MLP_ODE_Block_1(tf.keras.Model):\n",
    "    \n",
    "    def __init__(self,name='mlp_ode'):\n",
    "        super(MLP_ODE_Block_1,self).__init__(name=name)\n",
    "        self.model = tf.keras.Sequential()\n",
    "        self.model.add(layers.Reshape((16,16,2),input_shape=(2*output_dim,)))\n",
    "        assert self.model.output_shape == (None,16,16,2) \n",
    "        self.model.add(ResnetBlock(64))\n",
    "        assert self.model.output_shape == (None,16,16,64)\n",
    "        self.model.add(layers.Conv2D(1, (1, 1), strides=(1, 1), \n",
    "                       padding='same', use_bias=False, activation='softplus'))\n",
    "        assert self.model.output_shape == (None, 16 ,16, 1)\n",
    "        self.model.add(layers.Flatten())\n",
    "        assert self.model.output_shape == (None, output_dim)\n",
    "     \n",
    "    def call(self, t, inputs):\n",
    "        inputs = tf.concat([tf.broadcast_to(t, inputs.shape), inputs], -1)\n",
    "        return self.model(inputs)\n",
    "    \n",
    "class MLP_ODE_Block_2(tf.keras.Model):\n",
    "    \n",
    "    def __init__(self,name='mlp_ode'):\n",
    "        super(MLP_ODE_Block_2,self).__init__(name=name)\n",
    "        self.model = tf.keras.Sequential()\n",
    "        self.model.add(layers.Reshape((8,8,2*4),input_shape=(2*output_dim,)))\n",
    "        assert self.model.output_shape == (None,8,8,2*4) \n",
    "        self.model.add(ResnetBlock(128))\n",
    "        assert self.model.output_shape == (None,8,8,128)\n",
    "        self.model.add(layers.Conv2D(4, (1, 1), strides=(1, 1), \n",
    "                       padding='same', use_bias=False, activation='softplus'))\n",
    "        assert self.model.output_shape == (None, 8 ,8, 4)\n",
    "        self.model.add(layers.Flatten())\n",
    "        assert self.model.output_shape == (None, output_dim)\n",
    "     \n",
    "    def call(self, t, inputs):\n",
    "        inputs = tf.concat([tf.broadcast_to(t, inputs.shape), inputs], -1)\n",
    "        return self.model(inputs)\n",
    "\n",
    "class MLP_ODE_Block_3(tf.keras.Model):\n",
    "    \n",
    "    def __init__(self,last_activation='softplus',name='mlp_ode'):\n",
    "        super(MLP_ODE_Block_3,self).__init__(name=name)\n",
    "        self.model = tf.keras.Sequential()\n",
    "        self.model.add(layers.Reshape((4,4,2*16),input_shape=(2*output_dim,)))\n",
    "        assert self.model.output_shape == (None,4,4,2*16) \n",
    "        self.model.add(ResnetBlock(256))\n",
    "        assert self.model.output_shape == (None,4,4,256)\n",
    "        self.model.add(layers.Conv2D(16, (1, 1), strides=(1, 1), \n",
    "                       padding='same', use_bias=False, activation=last_activation))\n",
    "        assert self.model.output_shape == (None, 4 ,4, 16)\n",
    "        self.model.add(layers.Flatten())\n",
    "        assert self.model.output_shape == (None, output_dim)\n",
    "     \n",
    "    def call(self, t, inputs):\n",
    "        inputs = tf.concat([tf.broadcast_to(t, inputs.shape), inputs], -1)\n",
    "        return self.model(inputs)\n",
    "                  \n",
    "solver = tfp.math.ode.DormandPrince(atol=1e-5)\n",
    "ode_solve_fn = solver.solve\n",
    "trace_augmentation_fn = tfb.ffjord.trace_jacobian_hutchinson\n",
    "bijectors = []\n",
    "ffjord_bijector_1 = tfb.FFJORD(\n",
    "                      state_time_derivative_fn = MLP_ODE_Block_1(),\n",
    "                      ode_solve_fn=ode_solve_fn,\n",
    "                      trace_augmentation_fn=trace_augmentation_fn)\n",
    "ffjord_bijector_2 = tfb.FFJORD(\n",
    "                      state_time_derivative_fn = MLP_ODE_Block_1(),\n",
    "                      ode_solve_fn=ode_solve_fn,\n",
    "                      trace_augmentation_fn=trace_augmentation_fn)\n",
    "ffjord_bijector_3 = tfb.FFJORD(\n",
    "                      state_time_derivative_fn = MLP_ODE_Block_2(),\n",
    "                      ode_solve_fn=ode_solve_fn,\n",
    "                      trace_augmentation_fn=trace_augmentation_fn)\n",
    "ffjord_bijector_4 = tfb.FFJORD(\n",
    "                      state_time_derivative_fn = MLP_ODE_Block_2(),\n",
    "                      ode_solve_fn=ode_solve_fn,\n",
    "                      trace_augmentation_fn=trace_augmentation_fn)\n",
    "ffjord_bijector_5 = tfb.FFJORD(\n",
    "                      state_time_derivative_fn = MLP_ODE_Block_3(),\n",
    "                      ode_solve_fn=ode_solve_fn,\n",
    "                      trace_augmentation_fn=trace_augmentation_fn)\n",
    "ffjord_bijector_6 = tfb.FFJORD(\n",
    "                      state_time_derivative_fn = MLP_ODE_Block_3(last_activation='tanh'),\n",
    "                      ode_solve_fn=ode_solve_fn,\n",
    "                      trace_augmentation_fn=trace_augmentation_fn)\n",
    "bijectors += [ffjord_bijector_1,\n",
    "              tfb.BatchNormalization(),\n",
    "              ffjord_bijector_2,\n",
    "              tfb.BatchNormalization(),\n",
    "              ffjord_bijector_3,\n",
    "              tfb.BatchNormalization(),\n",
    "              ffjord_bijector_4,\n",
    "              tfb.BatchNormalization(),\n",
    "              ffjord_bijector_5,\n",
    "              tfb.BatchNormalization(),\n",
    "              ffjord_bijector_6]\n",
    "\n",
    "bijector_chain = tfb.Chain(bijectors[::-1]) \n",
    "\n",
    "ref_dist = tfd.MultivariateNormalDiag(loc=tf.zeros(output_dim,tf.float32),\n",
    "                                      scale_diag = tf.ones(output_dim,tf.float32))\n",
    "                  \n",
    "flow = tfd.TransformedDistribution(distribution=ref_dist,\n",
    "                                   bijector=bijector_chain)"
   ]
  },
  {
   "cell_type": "code",
   "execution_count": 6,
   "metadata": {},
   "outputs": [
    {
     "name": "stdout",
     "output_type": "stream",
     "text": [
      "256\n",
      "512\n"
     ]
    }
   ],
   "source": [
    "print(16*16)\n",
    "print(4*4*2*16)"
   ]
  },
  {
   "cell_type": "code",
   "execution_count": 7,
   "metadata": {},
   "outputs": [],
   "source": [
    "@tf.function\n",
    "def train_step(target_sample):\n",
    "    with tf.GradientTape() as tape:\n",
    "        loss = -tf.reduce_mean(flow.log_prob(target_sample))\n",
    "    gradients = tape.gradient(loss,flow.trainable_variables)\n",
    "    optimizer.apply_gradients(zip(gradients,flow.trainable_variables))\n",
    "    return loss\n",
    "\n",
    "@tf.function\n",
    "def sample(N):\n",
    "    return tf.reshape(flow.sample(N),[-1,16,16])\n",
    "\n",
    "def save_samples(epoch):\n",
    "    images = sample(16)\n",
    "    fig = plt.figure(figsize=(4,4))\n",
    "    for i in range(16):\n",
    "        plt.subplot(4,4,i+1)\n",
    "        plt.imshow(images[i]*127.5+127.5, cmap = 'gray')\n",
    "        plt.axis('off')\n",
    "    plt.suptitle('epoch: %03d'%(epoch))\n",
    "    plt.savefig('images/ffjord/image_at_epoch_{:04d}.png'.format(epoch))\n",
    "    plt.close(fig)\n",
    "\n",
    "def train(dataset,num_epochs):\n",
    "        t = trange(num_epochs)\n",
    "        for epoch in t:\n",
    "            for batch in dataset:\n",
    "                loss = train_step(batch)\n",
    "                t.set_description(\"loss: %0.3f \" % loss.numpy())\n",
    "                t.refresh()\n",
    "                loss_history.append(loss.numpy())\n",
    "            save_samples(epoch)\n",
    "        return None"
   ]
  },
  {
   "cell_type": "code",
   "execution_count": 8,
   "metadata": {
    "scrolled": true
   },
   "outputs": [
    {
     "name": "stderr",
     "output_type": "stream",
     "text": [
      "  0%|          | 0/20 [00:00<?, ?it/s]/usr/local/lib/python3.6/dist-packages/tensorflow/python/keras/engine/base_layer.py:2273: UserWarning: `layer.apply` is deprecated and will be removed in a future version. Please use `layer.__call__` method instead.\n",
      "  warnings.warn('`layer.apply` is deprecated and '\n"
     ]
    },
    {
     "name": "stdout",
     "output_type": "stream",
     "text": [
      "WARNING:tensorflow:From /usr/local/lib/python3.6/dist-packages/tensorflow_probability/python/math/ode/base.py:463: calling while_loop_v2 (from tensorflow.python.ops.control_flow_ops) with back_prop=False is deprecated and will be removed in a future version.\n",
      "Instructions for updating:\n",
      "back_prop=False is deprecated. Consider using tf.stop_gradient instead.\n",
      "Instead of:\n",
      "results = tf.while_loop(c, b, vars, back_prop=False)\n",
      "Use:\n",
      "results = tf.nest.map_structure(tf.stop_gradient, tf.while_loop(c, b, vars))\n"
     ]
    },
    {
     "name": "stderr",
     "output_type": "stream",
     "text": [
      "loss: -941.374 :  10%|█         | 2/20 [10:10:47<91:37:05, 18323.64s/it] \n"
     ]
    },
    {
     "ename": "KeyboardInterrupt",
     "evalue": "",
     "output_type": "error",
     "traceback": [
      "\u001b[0;31m---------------------------------------------------------------------------\u001b[0m",
      "\u001b[0;31mKeyboardInterrupt\u001b[0m                         Traceback (most recent call last)",
      "\u001b[0;32m<ipython-input-8-e09ddc91941f>\u001b[0m in \u001b[0;36m<module>\u001b[0;34m\u001b[0m\n\u001b[1;32m      3\u001b[0m \u001b[0mEPOCHS\u001b[0m \u001b[0;34m=\u001b[0m \u001b[0;36m20\u001b[0m\u001b[0;34m\u001b[0m\u001b[0;34m\u001b[0m\u001b[0m\n\u001b[1;32m      4\u001b[0m \u001b[0mloss_history\u001b[0m \u001b[0;34m=\u001b[0m \u001b[0;34m[\u001b[0m\u001b[0;34m]\u001b[0m\u001b[0;34m\u001b[0m\u001b[0;34m\u001b[0m\u001b[0m\n\u001b[0;32m----> 5\u001b[0;31m \u001b[0mtrain\u001b[0m\u001b[0;34m(\u001b[0m\u001b[0mtrain_dataset\u001b[0m\u001b[0;34m,\u001b[0m\u001b[0mEPOCHS\u001b[0m\u001b[0;34m)\u001b[0m\u001b[0;34m\u001b[0m\u001b[0;34m\u001b[0m\u001b[0m\n\u001b[0m",
      "\u001b[0;32m<ipython-input-7-f809ab5ad173>\u001b[0m in \u001b[0;36mtrain\u001b[0;34m(dataset, num_epochs)\u001b[0m\n\u001b[1;32m     26\u001b[0m         \u001b[0;32mfor\u001b[0m \u001b[0mepoch\u001b[0m \u001b[0;32min\u001b[0m \u001b[0mt\u001b[0m\u001b[0;34m:\u001b[0m\u001b[0;34m\u001b[0m\u001b[0;34m\u001b[0m\u001b[0m\n\u001b[1;32m     27\u001b[0m             \u001b[0;32mfor\u001b[0m \u001b[0mbatch\u001b[0m \u001b[0;32min\u001b[0m \u001b[0mdataset\u001b[0m\u001b[0;34m:\u001b[0m\u001b[0;34m\u001b[0m\u001b[0;34m\u001b[0m\u001b[0m\n\u001b[0;32m---> 28\u001b[0;31m                 \u001b[0mloss\u001b[0m \u001b[0;34m=\u001b[0m \u001b[0mtrain_step\u001b[0m\u001b[0;34m(\u001b[0m\u001b[0mbatch\u001b[0m\u001b[0;34m)\u001b[0m\u001b[0;34m\u001b[0m\u001b[0;34m\u001b[0m\u001b[0m\n\u001b[0m\u001b[1;32m     29\u001b[0m                 \u001b[0mt\u001b[0m\u001b[0;34m.\u001b[0m\u001b[0mset_description\u001b[0m\u001b[0;34m(\u001b[0m\u001b[0;34m\"loss: %0.3f \"\u001b[0m \u001b[0;34m%\u001b[0m \u001b[0mloss\u001b[0m\u001b[0;34m.\u001b[0m\u001b[0mnumpy\u001b[0m\u001b[0;34m(\u001b[0m\u001b[0;34m)\u001b[0m\u001b[0;34m)\u001b[0m\u001b[0;34m\u001b[0m\u001b[0;34m\u001b[0m\u001b[0m\n\u001b[1;32m     30\u001b[0m                 \u001b[0mt\u001b[0m\u001b[0;34m.\u001b[0m\u001b[0mrefresh\u001b[0m\u001b[0;34m(\u001b[0m\u001b[0;34m)\u001b[0m\u001b[0;34m\u001b[0m\u001b[0;34m\u001b[0m\u001b[0m\n",
      "\u001b[0;32m/usr/local/lib/python3.6/dist-packages/tensorflow/python/eager/def_function.py\u001b[0m in \u001b[0;36m__call__\u001b[0;34m(self, *args, **kwds)\u001b[0m\n\u001b[1;32m    826\u001b[0m     \u001b[0mtracing_count\u001b[0m \u001b[0;34m=\u001b[0m \u001b[0mself\u001b[0m\u001b[0;34m.\u001b[0m\u001b[0mexperimental_get_tracing_count\u001b[0m\u001b[0;34m(\u001b[0m\u001b[0;34m)\u001b[0m\u001b[0;34m\u001b[0m\u001b[0;34m\u001b[0m\u001b[0m\n\u001b[1;32m    827\u001b[0m     \u001b[0;32mwith\u001b[0m \u001b[0mtrace\u001b[0m\u001b[0;34m.\u001b[0m\u001b[0mTrace\u001b[0m\u001b[0;34m(\u001b[0m\u001b[0mself\u001b[0m\u001b[0;34m.\u001b[0m\u001b[0m_name\u001b[0m\u001b[0;34m)\u001b[0m \u001b[0;32mas\u001b[0m \u001b[0mtm\u001b[0m\u001b[0;34m:\u001b[0m\u001b[0;34m\u001b[0m\u001b[0;34m\u001b[0m\u001b[0m\n\u001b[0;32m--> 828\u001b[0;31m       \u001b[0mresult\u001b[0m \u001b[0;34m=\u001b[0m \u001b[0mself\u001b[0m\u001b[0;34m.\u001b[0m\u001b[0m_call\u001b[0m\u001b[0;34m(\u001b[0m\u001b[0;34m*\u001b[0m\u001b[0margs\u001b[0m\u001b[0;34m,\u001b[0m \u001b[0;34m**\u001b[0m\u001b[0mkwds\u001b[0m\u001b[0;34m)\u001b[0m\u001b[0;34m\u001b[0m\u001b[0;34m\u001b[0m\u001b[0m\n\u001b[0m\u001b[1;32m    829\u001b[0m       \u001b[0mcompiler\u001b[0m \u001b[0;34m=\u001b[0m \u001b[0;34m\"xla\"\u001b[0m \u001b[0;32mif\u001b[0m \u001b[0mself\u001b[0m\u001b[0;34m.\u001b[0m\u001b[0m_experimental_compile\u001b[0m \u001b[0;32melse\u001b[0m \u001b[0;34m\"nonXla\"\u001b[0m\u001b[0;34m\u001b[0m\u001b[0;34m\u001b[0m\u001b[0m\n\u001b[1;32m    830\u001b[0m       \u001b[0mnew_tracing_count\u001b[0m \u001b[0;34m=\u001b[0m \u001b[0mself\u001b[0m\u001b[0;34m.\u001b[0m\u001b[0mexperimental_get_tracing_count\u001b[0m\u001b[0;34m(\u001b[0m\u001b[0;34m)\u001b[0m\u001b[0;34m\u001b[0m\u001b[0;34m\u001b[0m\u001b[0m\n",
      "\u001b[0;32m/usr/local/lib/python3.6/dist-packages/tensorflow/python/eager/def_function.py\u001b[0m in \u001b[0;36m_call\u001b[0;34m(self, *args, **kwds)\u001b[0m\n\u001b[1;32m    853\u001b[0m       \u001b[0;31m# In this case we have created variables on the first call, so we run the\u001b[0m\u001b[0;34m\u001b[0m\u001b[0;34m\u001b[0m\u001b[0;34m\u001b[0m\u001b[0m\n\u001b[1;32m    854\u001b[0m       \u001b[0;31m# defunned version which is guaranteed to never create variables.\u001b[0m\u001b[0;34m\u001b[0m\u001b[0;34m\u001b[0m\u001b[0;34m\u001b[0m\u001b[0m\n\u001b[0;32m--> 855\u001b[0;31m       \u001b[0;32mreturn\u001b[0m \u001b[0mself\u001b[0m\u001b[0;34m.\u001b[0m\u001b[0m_stateless_fn\u001b[0m\u001b[0;34m(\u001b[0m\u001b[0;34m*\u001b[0m\u001b[0margs\u001b[0m\u001b[0;34m,\u001b[0m \u001b[0;34m**\u001b[0m\u001b[0mkwds\u001b[0m\u001b[0;34m)\u001b[0m  \u001b[0;31m# pylint: disable=not-callable\u001b[0m\u001b[0;34m\u001b[0m\u001b[0;34m\u001b[0m\u001b[0m\n\u001b[0m\u001b[1;32m    856\u001b[0m     \u001b[0;32melif\u001b[0m \u001b[0mself\u001b[0m\u001b[0;34m.\u001b[0m\u001b[0m_stateful_fn\u001b[0m \u001b[0;32mis\u001b[0m \u001b[0;32mnot\u001b[0m \u001b[0;32mNone\u001b[0m\u001b[0;34m:\u001b[0m\u001b[0;34m\u001b[0m\u001b[0;34m\u001b[0m\u001b[0m\n\u001b[1;32m    857\u001b[0m       \u001b[0;31m# Release the lock early so that multiple threads can perform the call\u001b[0m\u001b[0;34m\u001b[0m\u001b[0;34m\u001b[0m\u001b[0;34m\u001b[0m\u001b[0m\n",
      "\u001b[0;32m/usr/local/lib/python3.6/dist-packages/tensorflow/python/eager/function.py\u001b[0m in \u001b[0;36m__call__\u001b[0;34m(self, *args, **kwargs)\u001b[0m\n\u001b[1;32m   2941\u001b[0m        filtered_flat_args) = self._maybe_define_function(args, kwargs)\n\u001b[1;32m   2942\u001b[0m     return graph_function._call_flat(\n\u001b[0;32m-> 2943\u001b[0;31m         filtered_flat_args, captured_inputs=graph_function.captured_inputs)  # pylint: disable=protected-access\n\u001b[0m\u001b[1;32m   2944\u001b[0m \u001b[0;34m\u001b[0m\u001b[0m\n\u001b[1;32m   2945\u001b[0m   \u001b[0;34m@\u001b[0m\u001b[0mproperty\u001b[0m\u001b[0;34m\u001b[0m\u001b[0;34m\u001b[0m\u001b[0m\n",
      "\u001b[0;32m/usr/local/lib/python3.6/dist-packages/tensorflow/python/eager/function.py\u001b[0m in \u001b[0;36m_call_flat\u001b[0;34m(self, args, captured_inputs, cancellation_manager)\u001b[0m\n\u001b[1;32m   1917\u001b[0m       \u001b[0;31m# No tape is watching; skip to running the function.\u001b[0m\u001b[0;34m\u001b[0m\u001b[0;34m\u001b[0m\u001b[0;34m\u001b[0m\u001b[0m\n\u001b[1;32m   1918\u001b[0m       return self._build_call_outputs(self._inference_function.call(\n\u001b[0;32m-> 1919\u001b[0;31m           ctx, args, cancellation_manager=cancellation_manager))\n\u001b[0m\u001b[1;32m   1920\u001b[0m     forward_backward = self._select_forward_and_backward_functions(\n\u001b[1;32m   1921\u001b[0m         \u001b[0margs\u001b[0m\u001b[0;34m,\u001b[0m\u001b[0;34m\u001b[0m\u001b[0;34m\u001b[0m\u001b[0m\n",
      "\u001b[0;32m/usr/local/lib/python3.6/dist-packages/tensorflow/python/eager/function.py\u001b[0m in \u001b[0;36mcall\u001b[0;34m(self, ctx, args, cancellation_manager)\u001b[0m\n\u001b[1;32m    558\u001b[0m               \u001b[0minputs\u001b[0m\u001b[0;34m=\u001b[0m\u001b[0margs\u001b[0m\u001b[0;34m,\u001b[0m\u001b[0;34m\u001b[0m\u001b[0;34m\u001b[0m\u001b[0m\n\u001b[1;32m    559\u001b[0m               \u001b[0mattrs\u001b[0m\u001b[0;34m=\u001b[0m\u001b[0mattrs\u001b[0m\u001b[0;34m,\u001b[0m\u001b[0;34m\u001b[0m\u001b[0;34m\u001b[0m\u001b[0m\n\u001b[0;32m--> 560\u001b[0;31m               ctx=ctx)\n\u001b[0m\u001b[1;32m    561\u001b[0m         \u001b[0;32melse\u001b[0m\u001b[0;34m:\u001b[0m\u001b[0;34m\u001b[0m\u001b[0;34m\u001b[0m\u001b[0m\n\u001b[1;32m    562\u001b[0m           outputs = execute.execute_with_cancellation(\n",
      "\u001b[0;32m/usr/local/lib/python3.6/dist-packages/tensorflow/python/eager/execute.py\u001b[0m in \u001b[0;36mquick_execute\u001b[0;34m(op_name, num_outputs, inputs, attrs, ctx, name)\u001b[0m\n\u001b[1;32m     58\u001b[0m     \u001b[0mctx\u001b[0m\u001b[0;34m.\u001b[0m\u001b[0mensure_initialized\u001b[0m\u001b[0;34m(\u001b[0m\u001b[0;34m)\u001b[0m\u001b[0;34m\u001b[0m\u001b[0;34m\u001b[0m\u001b[0m\n\u001b[1;32m     59\u001b[0m     tensors = pywrap_tfe.TFE_Py_Execute(ctx._handle, device_name, op_name,\n\u001b[0;32m---> 60\u001b[0;31m                                         inputs, attrs, num_outputs)\n\u001b[0m\u001b[1;32m     61\u001b[0m   \u001b[0;32mexcept\u001b[0m \u001b[0mcore\u001b[0m\u001b[0;34m.\u001b[0m\u001b[0m_NotOkStatusException\u001b[0m \u001b[0;32mas\u001b[0m \u001b[0me\u001b[0m\u001b[0;34m:\u001b[0m\u001b[0;34m\u001b[0m\u001b[0;34m\u001b[0m\u001b[0m\n\u001b[1;32m     62\u001b[0m     \u001b[0;32mif\u001b[0m \u001b[0mname\u001b[0m \u001b[0;32mis\u001b[0m \u001b[0;32mnot\u001b[0m \u001b[0;32mNone\u001b[0m\u001b[0;34m:\u001b[0m\u001b[0;34m\u001b[0m\u001b[0;34m\u001b[0m\u001b[0m\n",
      "\u001b[0;31mKeyboardInterrupt\u001b[0m: "
     ]
    }
   ],
   "source": [
    "LR = 1e-4\n",
    "optimizer = tf.keras.optimizers.Adam(learning_rate=LR,beta_1=0.5)\n",
    "EPOCHS = 20\n",
    "loss_history = []\n",
    "train(train_dataset,EPOCHS)"
   ]
  },
  {
   "cell_type": "code",
   "execution_count": null,
   "metadata": {},
   "outputs": [],
   "source": []
  },
  {
   "cell_type": "code",
   "execution_count": 9,
   "metadata": {},
   "outputs": [
    {
     "data": {
      "text/plain": [
       "[<matplotlib.lines.Line2D at 0x7ff30adc46d8>]"
      ]
     },
     "execution_count": 9,
     "metadata": {},
     "output_type": "execute_result"
    },
    {
     "data": {
      "image/png": "[encoded data removed]",
      "text/plain": [
       "<Figure size 432x288 with 1 Axes>"
      ]
     },
     "metadata": {
      "needs_background": "light"
     },
     "output_type": "display_data"
    }
   ],
   "source": [
    "plt.plot(loss_history)"
   ]
  },
  {
   "cell_type": "code",
   "execution_count": null,
   "metadata": {},
   "outputs": [],
   "source": [
    "def plot_samples():\n",
    "    images = sample(16)\n",
    "    fig = plt.figure(figsize=(4,4))\n",
    "    for i in range(16):\n",
    "        plt.subplot(4,4,i+1)\n",
    "        plt.imshow(images[i]*127.5+127.5, cmap = 'gray')\n",
    "        plt.axis('off')\n",
    "    plt.pause(0.5)"
   ]
  },
  {
   "cell_type": "code",
   "execution_count": null,
   "metadata": {},
   "outputs": [],
   "source": [
    "plot_samples()"
   ]
  },
  {
   "cell_type": "code",
   "execution_count": null,
   "metadata": {},
   "outputs": [],
   "source": [
    "import glob\n",
    "import imageio\n",
    "anim_file = 'ffjord.gif'\n",
    "\n",
    "with imageio.get_writer(anim_file, mode='I',fps=1) as writer:\n",
    "    filenames = glob.glob('images/ffjord/image*.png')\n",
    "    filenames = sorted(filenames)\n",
    "    for filename in filenames:\n",
    "        image = imageio.imread(filename)\n",
    "        writer.append_data(image)\n",
    "    image = imageio.imread(filename)\n",
    "    writer.append_data(image)"
   ]
  },
  {
   "cell_type": "code",
   "execution_count": null,
   "metadata": {},
   "outputs": [],
   "source": [
    "import tensorflow_docs.vis.embed as embed\n",
    "embed.embed_file(anim_file)"
   ]
  }
 ],
 "metadata": {
  "kernelspec": {
   "display_name": "Python 3",
   "language": "python",
   "name": "python3"
  },
  "language_info": {
   "codemirror_mode": {
    "name": "ipython",
    "version": 3
   },
   "file_extension": ".py",
   "mimetype": "text/x-python",
   "name": "python",
   "nbconvert_exporter": "python",
   "pygments_lexer": "ipython3",
   "version": "3.6.9"
  }
 },
 "nbformat": 4,
 "nbformat_minor": 2
}
